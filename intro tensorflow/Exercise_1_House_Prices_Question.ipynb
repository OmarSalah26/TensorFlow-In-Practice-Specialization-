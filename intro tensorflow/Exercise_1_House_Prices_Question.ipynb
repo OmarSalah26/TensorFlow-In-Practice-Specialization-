{
 "cells": [
  {
   "cell_type": "code",
   "execution_count": 1,
   "metadata": {},
   "outputs": [],
   "source": [
    "#import library\n",
    "import tensorflow as tf\n",
    "import numpy as np\n",
    "from tensorflow import keras"
   ]
  },
  {
   "cell_type": "code",
   "execution_count": 2,
   "metadata": {},
   "outputs": [],
   "source": [
    "# GRADED FUNCTION: house_model\n",
    "def house_model(y_new):\n",
    "    xs = np.array([1.0,2.0,3.0,4.0,5.0,6.0], dtype = float)\n",
    "    ys = np.array([100,150,200,250,300,350], dtype = float)\n",
    "    model=keras.models.Sequential([keras.layers.Dense(units=1, input_shape=[1] )])\n",
    "    model.compile(optimizer=\"sgd\", loss=\"mean_squared_error\")\n",
    "    model.fit(xs,ys/100,epochs=1000) #div by 100 to normlization ys to rapid the process\n",
    "    return model.predict(y_new)[0]"
   ]
  },
  {
   "cell_type": "code",
   "execution_count": null,
   "metadata": {},
   "outputs": [],
   "source": [
    "#predict\n",
    "prediction = house_model([7.0])\n",
    "print(prediction)"
   ]
  }
 ],
 "metadata": {
  "kernelspec": {
   "display_name": "Python 3",
   "language": "python",
   "name": "python3"
  },
  "language_info": {
   "codemirror_mode": {
    "name": "ipython",
    "version": 3
   },
   "file_extension": ".py",
   "mimetype": "text/x-python",
   "name": "python",
   "nbconvert_exporter": "python",
   "pygments_lexer": "ipython3",
   "version": "3.7.4"
  }
 },
 "nbformat": 4,
 "nbformat_minor": 2
}
