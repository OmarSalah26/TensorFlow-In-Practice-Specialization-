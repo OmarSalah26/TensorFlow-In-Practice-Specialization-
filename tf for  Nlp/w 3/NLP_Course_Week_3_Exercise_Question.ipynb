{
  "nbformat": 4,
  "nbformat_minor": 0,
  "metadata": {
    "accelerator": "GPU",
    "colab": {
      "name": "NLP Course - Week 3 Exercise Question.ipynb",
      "provenance": [],
      "toc_visible": true
    },
    "kernelspec": {
      "display_name": "Python 3",
      "name": "python3"
    }
  },
  "cells": [
    {
      "cell_type": "code",
      "metadata": {
        "id": "zX4Kg8DUTKWO",
        "colab_type": "code",
        "colab": {}
      },
      "source": [
        "#@title Licensed under the Apache License, Version 2.0 (the \"License\");\n",
        "# you may not use this file except in compliance with the License.\n",
        "# You may obtain a copy of the License at\n",
        "#\n",
        "# https://www.apache.org/licenses/LICENSE-2.0\n",
        "#\n",
        "# Unless required by applicable law or agreed to in writing, software\n",
        "# distributed under the License is distributed on an \"AS IS\" BASIS,\n",
        "# WITHOUT WARRANTIES OR CONDITIONS OF ANY KIND, either express or implied.\n",
        "# See the License for the specific language governing permissions and\n",
        "# limitations under the License."
      ],
      "execution_count": null,
      "outputs": []
    },
    {
      "cell_type": "code",
      "metadata": {
        "colab_type": "code",
        "id": "hmA6EzkQJ5jt",
        "colab": {}
      },
      "source": [
        "import json\n",
        "import tensorflow as tf\n",
        "import csv\n",
        "import random\n",
        "import numpy as np\n",
        "\n",
        "from tensorflow.keras.preprocessing.text import Tokenizer\n",
        "from tensorflow.keras.preprocessing.sequence import pad_sequences\n",
        "from tensorflow.keras.utils import to_categorical\n",
        "from tensorflow.keras import regularizers\n",
        "\n",
        "\n",
        "embedding_dim = 100\n",
        "max_length = 16\n",
        "trunc_type='post'\n",
        "padding_type='post'\n",
        "oov_tok = \"<OOV>\"\n",
        "training_size=1600000#Your dataset size here. Experiment using smaller values (i.e. 16000), but don't forget to train on at least 160000 to see the best effects\n",
        "test_portion=.1\n",
        "\n",
        "corpus = []\n"
      ],
      "execution_count": 37,
      "outputs": []
    },
    {
      "cell_type": "code",
      "metadata": {
        "colab_type": "code",
        "id": "bM0l_dORKqE0",
        "colab": {
          "base_uri": "https://localhost:8080/",
          "height": 201
        },
        "outputId": "1c29508c-60bb-482b-bbd1-4b4530d4972b"
      },
      "source": [
        "# Note that I cleaned the Stanford dataset to remove LATIN1 encoding to make it easier for Python CSV reader\n",
        "# You can do that yourself with:\n",
        "# iconv -f LATIN1 -t UTF8 training.1600000.processed.noemoticon.csv -o training_cleaned.csv\n",
        "# I then hosted it on my site to make it easier to use in this notebook\n",
        "\n",
        "!wget --no-check-certificate \\\n",
        "    https://storage.googleapis.com/laurencemoroney-blog.appspot.com/training_cleaned.csv \\\n",
        "    -O /tmp/training_cleaned.csv\n",
        "\n",
        "num_sentences = 0\n",
        "\n",
        "with open(\"/tmp/training_cleaned.csv\") as csvfile:\n",
        "    reader = csv.reader(csvfile, delimiter=',')\n",
        "    for row in reader:\n",
        "        list_item=[]\n",
        "        list_item.append(row[5])\n",
        "        this_label=row[0]\n",
        "        if this_label=='0':\n",
        "            list_item.append(0)\n",
        "        else:\n",
        "            list_item.append(1)\n",
        "        num_sentences = num_sentences + 1\n",
        "        corpus.append(list_item)\n"
      ],
      "execution_count": 26,
      "outputs": [
        {
          "output_type": "stream",
          "text": [
            "--2020-07-08 10:00:29--  https://storage.googleapis.com/laurencemoroney-blog.appspot.com/training_cleaned.csv\n",
            "Resolving storage.googleapis.com (storage.googleapis.com)... 74.125.142.128, 74.125.195.128, 2607:f8b0:400e:c00::80, ...\n",
            "Connecting to storage.googleapis.com (storage.googleapis.com)|74.125.142.128|:443... connected.\n",
            "HTTP request sent, awaiting response... 200 OK\n",
            "Length: 238942690 (228M) [application/octet-stream]\n",
            "Saving to: ‘/tmp/training_cleaned.csv’\n",
            "\n",
            "/tmp/training_clean 100%[===================>] 227.87M   149MB/s    in 1.5s    \n",
            "\n",
            "2020-07-08 10:00:30 (149 MB/s) - ‘/tmp/training_cleaned.csv’ saved [238942690/238942690]\n",
            "\n"
          ],
          "name": "stdout"
        }
      ]
    },
    {
      "cell_type": "code",
      "metadata": {
        "colab_type": "code",
        "id": "3kxblBUjEUX-",
        "colab": {
          "base_uri": "https://localhost:8080/",
          "height": 67
        },
        "outputId": "02efa314-fde8-43e4-e85e-52a5110a1d22"
      },
      "source": [
        "print(num_sentences)\n",
        "print(len(corpus))\n",
        "print(corpus[1])\n",
        "\n",
        "# Expected Output:\n",
        "# 1600000\n",
        "# 1600000\n",
        "# [\"is upset that he can't update his Facebook by texting it... and might cry as a result  School today also. Blah!\", 0]"
      ],
      "execution_count": 27,
      "outputs": [
        {
          "output_type": "stream",
          "text": [
            "1600000\n",
            "1600000\n",
            "[\"is upset that he can't update his Facebook by texting it... and might cry as a result  School today also. Blah!\", 0]\n"
          ],
          "name": "stdout"
        }
      ]
    },
    {
      "cell_type": "code",
      "metadata": {
        "colab_type": "code",
        "id": "ohOGz24lsNAD",
        "colab": {}
      },
      "source": [
        "sentences=[]\n",
        "labels=[]\n",
        "random.shuffle(corpus)\n",
        "for x in range(training_size):\n",
        "    sentences.append(corpus[x][0])\n",
        "    labels.append(corpus[x][1])\n",
        "\n",
        "\n",
        "tokenizer = Tokenizer()\n",
        "tokenizer.fit_on_texts(sentences)\n",
        "\n",
        "word_index = tokenizer.word_index\n",
        "vocab_size=len(word_index)\n",
        "\n",
        "sequences = tokenizer.texts_to_sequences(sentences)\n",
        "padded = pad_sequences(sequences, maxlen=max_length, padding=padding_type, truncating=trunc_type)\n",
        "\n",
        "split = int(test_portion * training_size)\n",
        "\n",
        "test_sequences = padded[0:split]\n",
        "training_sequences = padded[split:training_size]\n",
        "test_labels = labels[0:split]\n",
        "training_labels = labels[split:training_size]"
      ],
      "execution_count": 28,
      "outputs": []
    },
    {
      "cell_type": "code",
      "metadata": {
        "colab_type": "code",
        "id": "gIrtRem1En3N",
        "colab": {
          "base_uri": "https://localhost:8080/",
          "height": 50
        },
        "outputId": "3df058ec-0afd-4295-9d2b-caef0f25bde1"
      },
      "source": [
        "print(vocab_size)\n",
        "print(word_index['i'])\n",
        "# Expected Output\n",
        "# 138858\n",
        "# 1"
      ],
      "execution_count": 29,
      "outputs": [
        {
          "output_type": "stream",
          "text": [
            "138600\n",
            "1\n"
          ],
          "name": "stdout"
        }
      ]
    },
    {
      "cell_type": "code",
      "metadata": {
        "colab_type": "code",
        "id": "C1zdgJkusRh0",
        "colab": {
          "base_uri": "https://localhost:8080/",
          "height": 201
        },
        "outputId": "e2f0d035-d417-4ffd-f728-781634213262"
      },
      "source": [
        "# Note this is the 100 dimension version of GloVe from Stanford\n",
        "# I unzipped and hosted it on my site to make this notebook easier\n",
        "!wget --no-check-certificate \\\n",
        "    https://storage.googleapis.com/laurencemoroney-blog.appspot.com/glove.6B.100d.txt \\\n",
        "    -O /tmp/glove.6B.100d.txt\n",
        "    \n",
        "embeddings_index = {};\n",
        "with open('/tmp/glove.6B.100d.txt') as f:\n",
        "    for line in f:\n",
        "        values = line.split();\n",
        "        word = values[0];\n",
        "        coefs = np.asarray(values[1:], dtype='float32');\n",
        "        embeddings_index[word] = coefs;\n",
        "\n",
        "embeddings_matrix = np.zeros((vocab_size+1, embedding_dim));\n",
        "for word, i in word_index.items():\n",
        "    embedding_vector = embeddings_index.get(word);\n",
        "    if embedding_vector is not None:\n",
        "        embeddings_matrix[i] = embedding_vector;"
      ],
      "execution_count": 30,
      "outputs": [
        {
          "output_type": "stream",
          "text": [
            "--2020-07-08 10:03:46--  https://storage.googleapis.com/laurencemoroney-blog.appspot.com/glove.6B.100d.txt\n",
            "Resolving storage.googleapis.com (storage.googleapis.com)... 74.125.20.128, 74.125.135.128, 74.125.142.128, ...\n",
            "Connecting to storage.googleapis.com (storage.googleapis.com)|74.125.20.128|:443... connected.\n",
            "HTTP request sent, awaiting response... 200 OK\n",
            "Length: 347116733 (331M) [text/plain]\n",
            "Saving to: ‘/tmp/glove.6B.100d.txt’\n",
            "\n",
            "/tmp/glove.6B.100d. 100%[===================>] 331.04M   117MB/s    in 2.8s    \n",
            "\n",
            "2020-07-08 10:03:49 (117 MB/s) - ‘/tmp/glove.6B.100d.txt’ saved [347116733/347116733]\n",
            "\n"
          ],
          "name": "stdout"
        }
      ]
    },
    {
      "cell_type": "code",
      "metadata": {
        "colab_type": "code",
        "id": "71NLk_lpFLNt",
        "colab": {
          "base_uri": "https://localhost:8080/",
          "height": 33
        },
        "outputId": "b88981f8-520e-4d1d-d16e-b8b42c4043b6"
      },
      "source": [
        "print(len(embeddings_matrix))\n",
        "# Expected Output\n",
        "# 138859"
      ],
      "execution_count": 31,
      "outputs": [
        {
          "output_type": "stream",
          "text": [
            "138601\n"
          ],
          "name": "stdout"
        }
      ]
    },
    {
      "cell_type": "code",
      "metadata": {
        "colab_type": "code",
        "id": "iKKvbuEBOGFz",
        "colab": {
          "base_uri": "https://localhost:8080/",
          "height": 1000
        },
        "outputId": "0892aad6-4f12-4b3b-d972-380abe193972"
      },
      "source": [
        "model = tf.keras.Sequential([\n",
        "    tf.keras.layers.Embedding(vocab_size+1, embedding_dim, input_length=max_length, weights=[embeddings_matrix], trainable=False),\n",
        "    tf.keras.layers.Dropout(0.2),\n",
        "    tf.keras.layers.Conv1D(64, 5, activation='relu'),\n",
        "    tf.keras.layers.MaxPooling1D(pool_size=4),\n",
        "    tf.keras.layers.LSTM(64),\n",
        "    tf.keras.layers.Dense(1, activation='sigmoid')\n",
        "])\n",
        "model.compile(loss='binary_crossentropy',optimizer='adam',metrics=['accuracy'])\n",
        "model.summary()\n",
        "\n",
        "num_epochs = 50\n",
        "\n",
        "training_padded = np.array(training_sequences)\n",
        "training_labels = np.array(training_labels)\n",
        "testing_padded = np.array(test_sequences)\n",
        "testing_labels = np.array(test_labels)\n",
        "\n",
        "history = model.fit(training_padded, training_labels, epochs=num_epochs, validation_data=(testing_padded, testing_labels), verbose=2)\n",
        "\n",
        "print(\"Training Complete\")"
      ],
      "execution_count": 35,
      "outputs": [
        {
          "output_type": "stream",
          "text": [
            "Model: \"sequential_2\"\n",
            "_________________________________________________________________\n",
            "Layer (type)                 Output Shape              Param #   \n",
            "=================================================================\n",
            "embedding_2 (Embedding)      (None, 16, 100)           13860100  \n",
            "_________________________________________________________________\n",
            "dropout_2 (Dropout)          (None, 16, 100)           0         \n",
            "_________________________________________________________________\n",
            "conv1d_2 (Conv1D)            (None, 12, 64)            32064     \n",
            "_________________________________________________________________\n",
            "max_pooling1d_2 (MaxPooling1 (None, 3, 64)             0         \n",
            "_________________________________________________________________\n",
            "lstm_2 (LSTM)                (None, 64)                33024     \n",
            "_________________________________________________________________\n",
            "dense_2 (Dense)              (None, 1)                 65        \n",
            "=================================================================\n",
            "Total params: 13,925,253\n",
            "Trainable params: 65,153\n",
            "Non-trainable params: 13,860,100\n",
            "_________________________________________________________________\n",
            "Epoch 1/50\n",
            "4500/4500 - 16s - loss: 0.5668 - accuracy: 0.7001 - val_loss: 0.5480 - val_accuracy: 0.7129\n",
            "Epoch 2/50\n",
            "4500/4500 - 15s - loss: 0.5251 - accuracy: 0.7340 - val_loss: 0.5177 - val_accuracy: 0.7386\n",
            "Epoch 3/50\n",
            "4500/4500 - 15s - loss: 0.5105 - accuracy: 0.7451 - val_loss: 0.5162 - val_accuracy: 0.7389\n",
            "Epoch 4/50\n",
            "4500/4500 - 15s - loss: 0.4979 - accuracy: 0.7532 - val_loss: 0.5163 - val_accuracy: 0.7394\n",
            "Epoch 5/50\n",
            "4500/4500 - 16s - loss: 0.4896 - accuracy: 0.7579 - val_loss: 0.5056 - val_accuracy: 0.7491\n",
            "Epoch 6/50\n",
            "4500/4500 - 16s - loss: 0.4829 - accuracy: 0.7636 - val_loss: 0.5008 - val_accuracy: 0.7501\n",
            "Epoch 7/50\n",
            "4500/4500 - 15s - loss: 0.4771 - accuracy: 0.7676 - val_loss: 0.5015 - val_accuracy: 0.7518\n",
            "Epoch 8/50\n",
            "4500/4500 - 15s - loss: 0.4717 - accuracy: 0.7699 - val_loss: 0.5013 - val_accuracy: 0.7514\n",
            "Epoch 9/50\n",
            "4500/4500 - 15s - loss: 0.4692 - accuracy: 0.7723 - val_loss: 0.5002 - val_accuracy: 0.7540\n",
            "Epoch 10/50\n",
            "4500/4500 - 15s - loss: 0.4634 - accuracy: 0.7744 - val_loss: 0.5006 - val_accuracy: 0.7544\n",
            "Epoch 11/50\n",
            "4500/4500 - 16s - loss: 0.4602 - accuracy: 0.7766 - val_loss: 0.5005 - val_accuracy: 0.7520\n",
            "Epoch 12/50\n",
            "4500/4500 - 15s - loss: 0.4573 - accuracy: 0.7787 - val_loss: 0.5009 - val_accuracy: 0.7524\n",
            "Epoch 13/50\n",
            "4500/4500 - 15s - loss: 0.4535 - accuracy: 0.7814 - val_loss: 0.5082 - val_accuracy: 0.7507\n",
            "Epoch 14/50\n",
            "4500/4500 - 15s - loss: 0.4520 - accuracy: 0.7839 - val_loss: 0.5103 - val_accuracy: 0.7491\n",
            "Epoch 15/50\n",
            "4500/4500 - 16s - loss: 0.4498 - accuracy: 0.7831 - val_loss: 0.5077 - val_accuracy: 0.7532\n",
            "Epoch 16/50\n",
            "4500/4500 - 15s - loss: 0.4477 - accuracy: 0.7852 - val_loss: 0.5160 - val_accuracy: 0.7531\n",
            "Epoch 17/50\n",
            "4500/4500 - 16s - loss: 0.4457 - accuracy: 0.7853 - val_loss: 0.5079 - val_accuracy: 0.7496\n",
            "Epoch 18/50\n",
            "4500/4500 - 15s - loss: 0.4451 - accuracy: 0.7858 - val_loss: 0.5092 - val_accuracy: 0.7504\n",
            "Epoch 19/50\n",
            "4500/4500 - 15s - loss: 0.4424 - accuracy: 0.7890 - val_loss: 0.5084 - val_accuracy: 0.7495\n",
            "Epoch 20/50\n",
            "4500/4500 - 15s - loss: 0.4411 - accuracy: 0.7880 - val_loss: 0.5145 - val_accuracy: 0.7524\n",
            "Epoch 21/50\n",
            "4500/4500 - 15s - loss: 0.4412 - accuracy: 0.7886 - val_loss: 0.5129 - val_accuracy: 0.7491\n",
            "Epoch 22/50\n",
            "4500/4500 - 15s - loss: 0.4387 - accuracy: 0.7903 - val_loss: 0.5127 - val_accuracy: 0.7519\n",
            "Epoch 23/50\n",
            "4500/4500 - 15s - loss: 0.4396 - accuracy: 0.7894 - val_loss: 0.5205 - val_accuracy: 0.7509\n",
            "Epoch 24/50\n",
            "4500/4500 - 15s - loss: 0.4372 - accuracy: 0.7908 - val_loss: 0.5121 - val_accuracy: 0.7474\n",
            "Epoch 25/50\n",
            "4500/4500 - 15s - loss: 0.4363 - accuracy: 0.7914 - val_loss: 0.5130 - val_accuracy: 0.7516\n",
            "Epoch 26/50\n",
            "4500/4500 - 16s - loss: 0.4361 - accuracy: 0.7923 - val_loss: 0.5175 - val_accuracy: 0.7500\n",
            "Epoch 27/50\n",
            "4500/4500 - 16s - loss: 0.4356 - accuracy: 0.7929 - val_loss: 0.5146 - val_accuracy: 0.7489\n",
            "Epoch 28/50\n",
            "4500/4500 - 16s - loss: 0.4362 - accuracy: 0.7913 - val_loss: 0.5152 - val_accuracy: 0.7494\n",
            "Epoch 29/50\n",
            "4500/4500 - 15s - loss: 0.4351 - accuracy: 0.7925 - val_loss: 0.5146 - val_accuracy: 0.7480\n",
            "Epoch 30/50\n",
            "4500/4500 - 15s - loss: 0.4322 - accuracy: 0.7939 - val_loss: 0.5157 - val_accuracy: 0.7506\n",
            "Epoch 31/50\n",
            "4500/4500 - 15s - loss: 0.4316 - accuracy: 0.7944 - val_loss: 0.5214 - val_accuracy: 0.7477\n",
            "Epoch 32/50\n",
            "4500/4500 - 15s - loss: 0.4333 - accuracy: 0.7941 - val_loss: 0.5155 - val_accuracy: 0.7472\n",
            "Epoch 33/50\n",
            "4500/4500 - 16s - loss: 0.4303 - accuracy: 0.7952 - val_loss: 0.5141 - val_accuracy: 0.7466\n",
            "Epoch 34/50\n",
            "4500/4500 - 15s - loss: 0.4299 - accuracy: 0.7952 - val_loss: 0.5194 - val_accuracy: 0.7493\n",
            "Epoch 35/50\n",
            "4500/4500 - 15s - loss: 0.4309 - accuracy: 0.7956 - val_loss: 0.5157 - val_accuracy: 0.7489\n",
            "Epoch 36/50\n",
            "4500/4500 - 15s - loss: 0.4304 - accuracy: 0.7954 - val_loss: 0.5179 - val_accuracy: 0.7527\n",
            "Epoch 37/50\n",
            "4500/4500 - 15s - loss: 0.4299 - accuracy: 0.7958 - val_loss: 0.5226 - val_accuracy: 0.7501\n",
            "Epoch 38/50\n",
            "4500/4500 - 15s - loss: 0.4290 - accuracy: 0.7954 - val_loss: 0.5155 - val_accuracy: 0.7499\n",
            "Epoch 39/50\n",
            "4500/4500 - 15s - loss: 0.4287 - accuracy: 0.7962 - val_loss: 0.5190 - val_accuracy: 0.7526\n",
            "Epoch 40/50\n",
            "4500/4500 - 15s - loss: 0.4278 - accuracy: 0.7981 - val_loss: 0.5183 - val_accuracy: 0.7499\n",
            "Epoch 41/50\n",
            "4500/4500 - 15s - loss: 0.4282 - accuracy: 0.7967 - val_loss: 0.5207 - val_accuracy: 0.7508\n",
            "Epoch 42/50\n",
            "4500/4500 - 15s - loss: 0.4279 - accuracy: 0.7971 - val_loss: 0.5186 - val_accuracy: 0.7456\n",
            "Epoch 43/50\n",
            "4500/4500 - 15s - loss: 0.4271 - accuracy: 0.7974 - val_loss: 0.5193 - val_accuracy: 0.7497\n",
            "Epoch 44/50\n",
            "4500/4500 - 16s - loss: 0.4271 - accuracy: 0.7984 - val_loss: 0.5266 - val_accuracy: 0.7494\n",
            "Epoch 45/50\n",
            "4500/4500 - 15s - loss: 0.4273 - accuracy: 0.7973 - val_loss: 0.5206 - val_accuracy: 0.7479\n",
            "Epoch 46/50\n",
            "4500/4500 - 16s - loss: 0.4287 - accuracy: 0.7962 - val_loss: 0.5199 - val_accuracy: 0.7481\n",
            "Epoch 47/50\n",
            "4500/4500 - 15s - loss: 0.4269 - accuracy: 0.7961 - val_loss: 0.5221 - val_accuracy: 0.7451\n",
            "Epoch 48/50\n",
            "4500/4500 - 15s - loss: 0.4261 - accuracy: 0.7982 - val_loss: 0.5229 - val_accuracy: 0.7479\n",
            "Epoch 49/50\n",
            "4500/4500 - 16s - loss: 0.4260 - accuracy: 0.7981 - val_loss: 0.5243 - val_accuracy: 0.7477\n",
            "Epoch 50/50\n",
            "4500/4500 - 15s - loss: 0.4264 - accuracy: 0.7979 - val_loss: 0.5221 - val_accuracy: 0.7476\n",
            "Training Complete\n"
          ],
          "name": "stdout"
        }
      ]
    },
    {
      "cell_type": "code",
      "metadata": {
        "colab_type": "code",
        "id": "qxju4ItJKO8F",
        "colab": {
          "base_uri": "https://localhost:8080/",
          "height": 606
        },
        "outputId": "f2b835ee-825f-48e1-8f64-1f4ce35c7e23"
      },
      "source": [
        "import matplotlib.image  as mpimg\n",
        "import matplotlib.pyplot as plt\n",
        "\n",
        "#-----------------------------------------------------------\n",
        "# Retrieve a list of list results on training and test data\n",
        "# sets for each training epoch\n",
        "#-----------------------------------------------------------\n",
        "acc=history.history['accuracy']\n",
        "val_acc=history.history['val_accuracy']\n",
        "loss=history.history['loss']\n",
        "val_loss=history.history['val_loss']\n",
        "\n",
        "epochs=range(len(acc)) # Get number of epochs\n",
        "\n",
        "#------------------------------------------------\n",
        "# Plot training and validation accuracy per epoch\n",
        "#------------------------------------------------\n",
        "plt.plot(epochs, acc, 'r')\n",
        "plt.plot(epochs, val_acc, 'b')\n",
        "plt.title('Training and validation accuracy')\n",
        "plt.xlabel(\"Epochs\")\n",
        "plt.ylabel(\"Accuracy\")\n",
        "plt.legend([\"Accuracy\", \"Validation Accuracy\"])\n",
        "\n",
        "plt.figure()\n",
        "\n",
        "#------------------------------------------------\n",
        "# Plot training and validation loss per epoch\n",
        "#------------------------------------------------\n",
        "plt.plot(epochs, loss, 'r')\n",
        "plt.plot(epochs, val_loss, 'b')\n",
        "plt.title('Training and validation loss')\n",
        "plt.xlabel(\"Epochs\")\n",
        "plt.ylabel(\"Loss\")\n",
        "plt.legend([\"Loss\", \"Validation Loss\"])\n",
        "\n",
        "plt.figure()\n",
        "\n",
        "\n",
        "# Expected Output\n",
        "# A chart where the validation loss does not increase sharply!"
      ],
      "execution_count": 36,
      "outputs": [
        {
          "output_type": "execute_result",
          "data": {
            "text/plain": [
              "<Figure size 432x288 with 0 Axes>"
            ]
          },
          "metadata": {
            "tags": []
          },
          "execution_count": 36
        },
        {
          "output_type": "display_data",
          "data": {
            "image/png": "[encoded data removed]",
            "text/plain": [
              "<Figure size 432x288 with 1 Axes>"
            ]
          },
          "metadata": {
            "tags": [],
            "needs_background": "light"
          }
        },
        {
          "output_type": "display_data",
          "data": {
            "image/png": "[encoded data removed]",
            "text/plain": [
              "<Figure size 432x288 with 1 Axes>"
            ]
          },
          "metadata": {
            "tags": [],
            "needs_background": "light"
          }
        },
        {
          "output_type": "display_data",
          "data": {
            "text/plain": [
              "<Figure size 432x288 with 0 Axes>"
            ]
          },
          "metadata": {
            "tags": []
          }
        }
      ]
    }
  ]
}